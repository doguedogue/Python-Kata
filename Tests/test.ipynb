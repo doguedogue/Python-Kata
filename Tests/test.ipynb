{
 "cells": [
  {
   "cell_type": "markdown",
   "metadata": {},
   "source": [
    "## Pruebas"
   ]
  },
  {
   "cell_type": "code",
   "execution_count": 7,
   "metadata": {},
   "outputs": [
    {
     "name": "stdout",
     "output_type": "stream",
     "text": [
      "Palabra: 'cappuccino' encontrada en la frase: 'Me gusta el cappuccino'\n",
      "Frase: 'Me gusta el cappuccino' NO encontrada en palabra: 'cappuccino'\n"
     ]
    }
   ],
   "source": [
    "frase = \"Me gusta el cappuccino\"\n",
    "palabra = \"cappuccino\"\n",
    "if palabra in frase:\n",
    "    print(\"Palabra: '\" + palabra + \"' encontrada en la frase: '\"+frase+\"'\")\n",
    "else:\n",
    "    print(\"Palabra: '\" + palabra + \"' NO encontrada en la frase: '\"+frase+\"'\")\n",
    "\n",
    "if frase in palabra:\n",
    "    print(\"Frase: '\" + frase + \"' encontrada en la palabra: '\"+palabra+\"'\")\n",
    "else:\n",
    "    print(\"Frase: '\" + frase + \"' NO encontrada en palabra: '\"+palabra+\"'\")\n",
    "\n",
    "\n"
   ]
  },
  {
   "cell_type": "code",
   "execution_count": 15,
   "metadata": {},
   "outputs": [
    {
     "name": "stdout",
     "output_type": "stream",
     "text": [
      "1.6199999999999999\n",
      "1.62\n"
     ]
    }
   ],
   "source": [
    "x = .00162 * 1000\n",
    "print(x)\n",
    "\n",
    "print(round(.00162 * 1000, 2))"
   ]
  },
  {
   "cell_type": "code",
   "execution_count": 1,
   "metadata": {},
   "outputs": [
    {
     "name": "stdout",
     "output_type": "stream",
     "text": [
      "{'Mercurio': {'distancia': 10}, 'Venus': {'distancia': 20}, 'Tierra': {'distancia': 30}, 'Marte': {'distancia': 40}, 'Júpiter': {'distancia': 50}, 'Saturno': {'distancia': 60}, 'Urano': {'distancia': 70}, 'Neptuno': {'distancia': 80}}\n",
      "La distancia al sol de la Tierra es 30 km.\n"
     ]
    }
   ],
   "source": [
    "planetas = ['Mercurio', 'Venus', 'Tierra', 'Marte', 'Júpiter', 'Saturno', 'Urano', 'Neptuno']\n",
    "sistema_solar = {}\n",
    "\n",
    "for planeta in planetas:\n",
    "    sistema_solar[planeta]= {'distancia': int(input(f'Introduzca la distancia del sol para {planeta} en KM: '))}\n",
    "\n",
    "print(sistema_solar)\n",
    "print(f\"La distancia al sol de la Tierra es {sistema_solar['Tierra']['distancia']} km.\")"
   ]
  }
 ],
 "metadata": {
  "interpreter": {
   "hash": "d2f36be3bfa1fca8bf46b19b4fbd917c05e140c856f7f11c589779041e4b8e2c"
  },
  "kernelspec": {
   "display_name": "Python 3.10.2 64-bit",
   "language": "python",
   "name": "python3"
  },
  "language_info": {
   "codemirror_mode": {
    "name": "ipython",
    "version": 3
   },
   "file_extension": ".py",
   "mimetype": "text/x-python",
   "name": "python",
   "nbconvert_exporter": "python",
   "pygments_lexer": "ipython3",
   "version": "3.10.2"
  },
  "orig_nbformat": 4
 },
 "nbformat": 4,
 "nbformat_minor": 2
}
